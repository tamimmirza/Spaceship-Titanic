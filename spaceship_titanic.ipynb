{
 "cells": [
  {
   "cell_type": "markdown",
   "id": "9dc3ae1c",
   "metadata": {},
   "source": [
    "### Import the Libraries"
   ]
  },
  {
   "cell_type": "code",
   "execution_count": 1,
   "id": "00292100",
   "metadata": {},
   "outputs": [],
   "source": [
    "# import libraries\n",
    "import numpy as np\n",
    "import pandas as pd\n",
    "import matplotlib.pyplot as plt\n",
    "from sklearn.neural_network import MLPClassifier\n",
    "from sklearn.tree import DecisionTreeClassifier\n",
    "from sklearn.linear_model import LogisticRegression, RidgeClassifier\n",
    "from sklearn.ensemble import AdaBoostClassifier\n",
    "from sklearn.preprocessing import StandardScaler\n",
    "from sklearn.metrics import confusion_matrix, accuracy_score, classification_report"
   ]
  },
  {
   "cell_type": "markdown",
   "id": "5757cb4b",
   "metadata": {},
   "source": [
    "### Load the data and perform EDA"
   ]
  },
  {
   "cell_type": "code",
   "execution_count": 2,
   "id": "8b28b887",
   "metadata": {},
   "outputs": [
    {
     "name": "stdout",
     "output_type": "stream",
     "text": [
      "  PassengerId HomePlanet CryoSleep  Cabin  Destination   Age    VIP  \\\n",
      "0     0001_01     Europa     False  B/0/P  TRAPPIST-1e  39.0  False   \n",
      "1     0002_01      Earth     False  F/0/S  TRAPPIST-1e  24.0  False   \n",
      "2     0003_01     Europa     False  A/0/S  TRAPPIST-1e  58.0   True   \n",
      "3     0003_02     Europa     False  A/0/S  TRAPPIST-1e  33.0  False   \n",
      "4     0004_01      Earth     False  F/1/S  TRAPPIST-1e  16.0  False   \n",
      "\n",
      "   RoomService  FoodCourt  ShoppingMall     Spa  VRDeck               Name  \\\n",
      "0          0.0        0.0           0.0     0.0     0.0    Maham Ofracculy   \n",
      "1        109.0        9.0          25.0   549.0    44.0       Juanna Vines   \n",
      "2         43.0     3576.0           0.0  6715.0    49.0      Altark Susent   \n",
      "3          0.0     1283.0         371.0  3329.0   193.0       Solam Susent   \n",
      "4        303.0       70.0         151.0   565.0     2.0  Willy Santantines   \n",
      "\n",
      "   Transported  \n",
      "0        False  \n",
      "1         True  \n",
      "2        False  \n",
      "3        False  \n",
      "4         True  \n",
      "  PassengerId HomePlanet CryoSleep  Cabin  Destination   Age    VIP  \\\n",
      "0     0013_01      Earth      True  G/3/S  TRAPPIST-1e  27.0  False   \n",
      "1     0018_01      Earth     False  F/4/S  TRAPPIST-1e  19.0  False   \n",
      "2     0019_01     Europa      True  C/0/S  55 Cancri e  31.0  False   \n",
      "3     0021_01     Europa     False  C/1/S  TRAPPIST-1e  38.0  False   \n",
      "4     0023_01      Earth     False  F/5/S  TRAPPIST-1e  20.0  False   \n",
      "\n",
      "   RoomService  FoodCourt  ShoppingMall     Spa  VRDeck              Name  \n",
      "0          0.0        0.0           0.0     0.0     0.0   Nelly Carsoning  \n",
      "1          0.0        9.0           0.0  2823.0     0.0    Lerome Peckers  \n",
      "2          0.0        0.0           0.0     0.0     0.0   Sabih Unhearfus  \n",
      "3          0.0     6652.0           0.0   181.0   585.0  Meratz Caltilter  \n",
      "4         10.0        0.0         635.0     0.0     0.0   Brence Harperez  \n"
     ]
    }
   ],
   "source": [
    "# Load the data\n",
    "train_data = pd.read_csv('./dataset/train.csv')\n",
    "test_data = pd.read_csv('./dataset/test.csv')\n",
    "\n",
    "# Display the first few rows of the training data\n",
    "print(train_data.head())\n",
    "\n",
    "# Display the first few rows of the test data\n",
    "print(test_data.head())"
   ]
  },
  {
   "cell_type": "code",
   "execution_count": 3,
   "id": "636cc931",
   "metadata": {},
   "outputs": [
    {
     "name": "stdout",
     "output_type": "stream",
     "text": [
      "PassengerId      object\n",
      "HomePlanet       object\n",
      "CryoSleep        object\n",
      "Cabin            object\n",
      "Destination      object\n",
      "Age             float64\n",
      "VIP              object\n",
      "RoomService     float64\n",
      "FoodCourt       float64\n",
      "ShoppingMall    float64\n",
      "Spa             float64\n",
      "VRDeck          float64\n",
      "Name             object\n",
      "Transported        bool\n",
      "dtype: object\n"
     ]
    }
   ],
   "source": [
    "# Check the data types of the training data\n",
    "print(train_data.dtypes)"
   ]
  },
  {
   "cell_type": "code",
   "execution_count": 4,
   "id": "abaebc6c",
   "metadata": {},
   "outputs": [],
   "source": [
    "# Define the features and target variable\n",
    "TARGET_VARIABLE = 'Transported'\n",
    "\n",
    "FEATURES = [\n",
    "    'HomePlanet', 'CryoSleep', 'Cabin', 'Destination', \n",
    "    'Age', 'VIP', 'RoomService', 'FoodCourt', 'ShoppingMall', 'Spa', 'VRDeck'\n",
    "]\n",
    "\n",
    "OBJECT_FEATURES = [\n",
    "    'HomePlanet', 'CryoSleep', 'Cabin', 'Destination', 'VIP'\n",
    "]\n",
    "\n",
    "FLOAT_FEATURES = [\n",
    "    'Age', 'RoomService', 'FoodCourt', 'ShoppingMall', 'Spa', 'VRDeck'\n",
    "]"
   ]
  },
  {
   "cell_type": "code",
   "execution_count": 5,
   "id": "d69f6b5d",
   "metadata": {},
   "outputs": [
    {
     "data": {
      "image/png": "[encoded data removed]",
      "text/plain": [
       "<Figure size 640x480 with 1 Axes>"
      ]
     },
     "metadata": {},
     "output_type": "display_data"
    }
   ],
   "source": [
    "# Visualize the distribution of the target variable\n",
    "train_data[TARGET_VARIABLE].value_counts().plot(kind='bar')\n",
    "plt.title('Distribution of Target Variable')\n",
    "plt.xlabel('Target Class')\n",
    "plt.ylabel('Frequency')\n",
    "plt.show()"
   ]
  },
  {
   "cell_type": "code",
   "execution_count": 6,
   "id": "ddeadbc5",
   "metadata": {},
   "outputs": [
    {
     "name": "stdout",
     "output_type": "stream",
     "text": [
      "Percentage of missing values in each feature:\n",
      "PassengerId     0.000000\n",
      "HomePlanet      2.312205\n",
      "CryoSleep       2.496261\n",
      "Cabin           2.289198\n",
      "Destination     2.093639\n",
      "Age             2.059128\n",
      "VIP             2.335212\n",
      "RoomService     2.082135\n",
      "FoodCourt       2.105142\n",
      "ShoppingMall    2.392730\n",
      "Spa             2.105142\n",
      "VRDeck          2.162660\n",
      "Name            2.300702\n",
      "Transported     0.000000\n",
      "dtype: float64\n"
     ]
    }
   ],
   "source": [
    "# Percentage of missing values in each feature\n",
    "missing_percentage = train_data.isnull().mean() * 100\n",
    "print(\"Percentage of missing values in each feature:\")\n",
    "print(missing_percentage)"
   ]
  },
  {
   "cell_type": "code",
   "execution_count": 7,
   "id": "1657970a",
   "metadata": {},
   "outputs": [
    {
     "name": "stderr",
     "output_type": "stream",
     "text": [
      "C:\\Users\\Tamim\\AppData\\Local\\Temp\\ipykernel_14752\\925895016.py:6: SettingWithCopyWarning: \n",
      "A value is trying to be set on a copy of a slice from a DataFrame.\n",
      "Try using .loc[row_indexer,col_indexer] = value instead\n",
      "\n",
      "See the caveats in the documentation: https://pandas.pydata.org/pandas-docs/stable/user_guide/indexing.html#returning-a-view-versus-a-copy\n",
      "  X_train[FLOAT_FEATURES] = X_train[FLOAT_FEATURES].fillna(X_train[FLOAT_FEATURES].mean())\n",
      "C:\\Users\\Tamim\\AppData\\Local\\Temp\\ipykernel_14752\\925895016.py:9: FutureWarning: Downcasting object dtype arrays on .fillna, .ffill, .bfill is deprecated and will change in a future version. Call result.infer_objects(copy=False) instead. To opt-in to the future behavior, set `pd.set_option('future.no_silent_downcasting', True)`\n",
      "  X_train[OBJECT_FEATURES] = X_train[OBJECT_FEATURES].fillna(X_train[OBJECT_FEATURES].mode().iloc[0])\n",
      "C:\\Users\\Tamim\\AppData\\Local\\Temp\\ipykernel_14752\\925895016.py:9: SettingWithCopyWarning: \n",
      "A value is trying to be set on a copy of a slice from a DataFrame.\n",
      "Try using .loc[row_indexer,col_indexer] = value instead\n",
      "\n",
      "See the caveats in the documentation: https://pandas.pydata.org/pandas-docs/stable/user_guide/indexing.html#returning-a-view-versus-a-copy\n",
      "  X_train[OBJECT_FEATURES] = X_train[OBJECT_FEATURES].fillna(X_train[OBJECT_FEATURES].mode().iloc[0])\n"
     ]
    }
   ],
   "source": [
    "# Prepare the data for training\n",
    "X_train = train_data[FEATURES]\n",
    "y_train = train_data[TARGET_VARIABLE]\n",
    "\n",
    "# Fill missing values for numerical features with the mean\n",
    "X_train[FLOAT_FEATURES] = X_train[FLOAT_FEATURES].fillna(X_train[FLOAT_FEATURES].mean())\n",
    "\n",
    "# Fill missing values for categorical features with the mode\n",
    "X_train[OBJECT_FEATURES] = X_train[OBJECT_FEATURES].fillna(X_train[OBJECT_FEATURES].mode().iloc[0])\n",
    "\n",
    "# Convert categorical features to numerical using one-hot encoding\n",
    "X_train = pd.get_dummies(X_train, columns=OBJECT_FEATURES, drop_first=True)"
   ]
  },
  {
   "cell_type": "code",
   "execution_count": 8,
   "id": "9d622c45",
   "metadata": {},
   "outputs": [
    {
     "name": "stderr",
     "output_type": "stream",
     "text": [
      "C:\\Users\\Tamim\\AppData\\Local\\Temp\\ipykernel_14752\\2737999800.py:3: SettingWithCopyWarning: \n",
      "A value is trying to be set on a copy of a slice from a DataFrame.\n",
      "Try using .loc[row_indexer,col_indexer] = value instead\n",
      "\n",
      "See the caveats in the documentation: https://pandas.pydata.org/pandas-docs/stable/user_guide/indexing.html#returning-a-view-versus-a-copy\n",
      "  X_test[FLOAT_FEATURES] = X_test[FLOAT_FEATURES].fillna(X_test[FLOAT_FEATURES].mean())\n",
      "C:\\Users\\Tamim\\AppData\\Local\\Temp\\ipykernel_14752\\2737999800.py:4: FutureWarning: Downcasting object dtype arrays on .fillna, .ffill, .bfill is deprecated and will change in a future version. Call result.infer_objects(copy=False) instead. To opt-in to the future behavior, set `pd.set_option('future.no_silent_downcasting', True)`\n",
      "  X_test[OBJECT_FEATURES] = X_test[OBJECT_FEATURES].fillna(X_test[OBJECT_FEATURES].mode().iloc[0])\n",
      "C:\\Users\\Tamim\\AppData\\Local\\Temp\\ipykernel_14752\\2737999800.py:4: SettingWithCopyWarning: \n",
      "A value is trying to be set on a copy of a slice from a DataFrame.\n",
      "Try using .loc[row_indexer,col_indexer] = value instead\n",
      "\n",
      "See the caveats in the documentation: https://pandas.pydata.org/pandas-docs/stable/user_guide/indexing.html#returning-a-view-versus-a-copy\n",
      "  X_test[OBJECT_FEATURES] = X_test[OBJECT_FEATURES].fillna(X_test[OBJECT_FEATURES].mode().iloc[0])\n"
     ]
    }
   ],
   "source": [
    "# Prepre the test data\n",
    "X_test = test_data[FEATURES]\n",
    "X_test[FLOAT_FEATURES] = X_test[FLOAT_FEATURES].fillna(X_test[FLOAT_FEATURES].mean())\n",
    "X_test[OBJECT_FEATURES] = X_test[OBJECT_FEATURES].fillna(X_test[OBJECT_FEATURES].mode().iloc[0])\n",
    "\n",
    "# Convert categorical features to numerical using one-hot encoding\n",
    "X_test = pd.get_dummies(X_test, columns=OBJECT_FEATURES, drop_first=True)\n",
    "\n",
    "# Align the training and test data\n",
    "X_train, X_test = X_train.align(X_test, join='left', axis=1, fill_value=0)\n",
    "\n",
    "# Scale the features\n",
    "scaler = StandardScaler()\n",
    "X_train[FLOAT_FEATURES] = scaler.fit_transform(X_train[FLOAT_FEATURES])\n",
    "X_test[FLOAT_FEATURES] = scaler.transform(X_test[FLOAT_FEATURES])"
   ]
  },
  {
   "cell_type": "markdown",
   "id": "2a5ea6d7",
   "metadata": {},
   "source": [
    "## TRAINING\n",
    "### Logistic Regression"
   ]
  },
  {
   "cell_type": "code",
   "execution_count": 9,
   "id": "cf327604",
   "metadata": {},
   "outputs": [
    {
     "name": "stdout",
     "output_type": "stream",
     "text": [
      "Logistic Regression Model Accuracy: 0.8607\n"
     ]
    }
   ],
   "source": [
    "Logistic_Regression_model = LogisticRegression(max_iter=1000)\n",
    "\n",
    "# Train the Logistic Regression model\n",
    "Logistic_Regression_model.fit(X_train, y_train)\n",
    "\n",
    "# Plot the accuracy of the Logistic Regression model\n",
    "accuracy_score_lr = accuracy_score(y_train, Logistic_Regression_model.predict(X_train))\n",
    "print(f\"Logistic Regression Model Accuracy: {accuracy_score_lr:.4f}\")"
   ]
  },
  {
   "cell_type": "code",
   "execution_count": 10,
   "id": "0771033f",
   "metadata": {},
   "outputs": [
    {
     "name": "stdout",
     "output_type": "stream",
     "text": [
      "Confusion Matrix for Logistic Regression:\n",
      "[[3619  696]\n",
      " [ 515 3863]]\n"
     ]
    }
   ],
   "source": [
    "# Confusion matrix for Logistic Regression\n",
    "confusion_matrix_lr = confusion_matrix(y_train, Logistic_Regression_model.predict(X_train))\n",
    "print(\"Confusion Matrix for Logistic Regression:\")\n",
    "print(confusion_matrix_lr)"
   ]
  },
  {
   "cell_type": "code",
   "execution_count": 11,
   "id": "d00b2105",
   "metadata": {},
   "outputs": [
    {
     "name": "stdout",
     "output_type": "stream",
     "text": [
      "Classification Report for Logistic Regression:\n",
      "              precision    recall  f1-score   support\n",
      "\n",
      "       False       0.88      0.84      0.86      4315\n",
      "        True       0.85      0.88      0.86      4378\n",
      "\n",
      "    accuracy                           0.86      8693\n",
      "   macro avg       0.86      0.86      0.86      8693\n",
      "weighted avg       0.86      0.86      0.86      8693\n",
      "\n"
     ]
    }
   ],
   "source": [
    "# Classification report for Logistic Regression\n",
    "classification_report_lr = classification_report(y_train, Logistic_Regression_model.predict(X_train))\n",
    "print(\"Classification Report for Logistic Regression:\")\n",
    "print(classification_report_lr)"
   ]
  },
  {
   "cell_type": "markdown",
   "id": "b841c5f8",
   "metadata": {},
   "source": [
    "### Decision Tree"
   ]
  },
  {
   "cell_type": "code",
   "execution_count": 12,
   "id": "435c9904",
   "metadata": {},
   "outputs": [
    {
     "name": "stdout",
     "output_type": "stream",
     "text": [
      "Decision Tree Model Accuracy: 0.9994\n"
     ]
    }
   ],
   "source": [
    "Decision_Tree_model = DecisionTreeClassifier()\n",
    "\n",
    "# Train the Decision Tree model\n",
    "Decision_Tree_model.fit(X_train, y_train)\n",
    "\n",
    "# Plot the accuracy of the Decision Tree model\n",
    "accuracy_score_dt = accuracy_score(y_train, Decision_Tree_model.predict(X_train))\n",
    "print(f\"Decision Tree Model Accuracy: {accuracy_score_dt:.4f}\")\n",
    "\n",
    "# Make predictions on the test set\n",
    "predictions_dt = Decision_Tree_model.predict(X_test)"
   ]
  },
  {
   "cell_type": "code",
   "execution_count": 13,
   "id": "3cff3da3",
   "metadata": {},
   "outputs": [
    {
     "name": "stdout",
     "output_type": "stream",
     "text": [
      "Confusion Matrix for Decision Tree:\n",
      "[[4314    1]\n",
      " [   4 4374]]\n"
     ]
    }
   ],
   "source": [
    "# Confusion Matrix for Decision Tree\n",
    "confusion_matrix_dt = confusion_matrix(y_train, Decision_Tree_model.predict(X_train))\n",
    "print(\"Confusion Matrix for Decision Tree:\")\n",
    "print(confusion_matrix_dt)"
   ]
  },
  {
   "cell_type": "code",
   "execution_count": 14,
   "id": "f1de4585",
   "metadata": {},
   "outputs": [
    {
     "name": "stdout",
     "output_type": "stream",
     "text": [
      "Classification Report for Decision Tree:\n",
      "              precision    recall  f1-score   support\n",
      "\n",
      "       False       1.00      1.00      1.00      4315\n",
      "        True       1.00      1.00      1.00      4378\n",
      "\n",
      "    accuracy                           1.00      8693\n",
      "   macro avg       1.00      1.00      1.00      8693\n",
      "weighted avg       1.00      1.00      1.00      8693\n",
      "\n"
     ]
    }
   ],
   "source": [
    "# Clasification Report for Decision Tree\n",
    "classification_report_dt = classification_report(y_train, Decision_Tree_model.predict(X_train))\n",
    "print(\"Classification Report for Decision Tree:\")\n",
    "print(classification_report_dt)"
   ]
  },
  {
   "cell_type": "markdown",
   "id": "d65b7a2f",
   "metadata": {},
   "source": [
    "### MLP Classifier"
   ]
  },
  {
   "cell_type": "code",
   "execution_count": 15,
   "id": "193c854a",
   "metadata": {},
   "outputs": [
    {
     "name": "stderr",
     "output_type": "stream",
     "text": [
      "c:\\Miniconda3\\envs\\machine-learning\\Lib\\site-packages\\sklearn\\neural_network\\_multilayer_perceptron.py:780: ConvergenceWarning: Stochastic Optimizer: Maximum iterations (200) reached and the optimization hasn't converged yet.\n",
      "  warnings.warn(\n"
     ]
    },
    {
     "name": "stdout",
     "output_type": "stream",
     "text": [
      "MLP Classifier Model Accuracy: 0.9938\n"
     ]
    }
   ],
   "source": [
    "MLP_model = MLPClassifier()\n",
    "MLP_model.fit(X_train, y_train)\n",
    "\n",
    "accuracy_score_mlp = accuracy_score(y_train, MLP_model.predict(X_train))\n",
    "print(f\"MLP Classifier Model Accuracy: {accuracy_score_mlp:.4f}\")"
   ]
  },
  {
   "cell_type": "code",
   "execution_count": 16,
   "id": "83280955",
   "metadata": {},
   "outputs": [
    {
     "name": "stdout",
     "output_type": "stream",
     "text": [
      "Confusion Matrix for MLP Classifier:\n",
      "[[4295   20]\n",
      " [  34 4344]]\n"
     ]
    }
   ],
   "source": [
    "# Confusion Matrix for MLP Classifier\n",
    "confusion_matrix_mlp = confusion_matrix(y_train, MLP_model.predict(X_train))\n",
    "print(\"Confusion Matrix for MLP Classifier:\")\n",
    "print(confusion_matrix_mlp)"
   ]
  },
  {
   "cell_type": "code",
   "execution_count": 17,
   "id": "22b4cb1b",
   "metadata": {},
   "outputs": [
    {
     "name": "stdout",
     "output_type": "stream",
     "text": [
      "Classification Report for MLP Classifier:\n",
      "              precision    recall  f1-score   support\n",
      "\n",
      "       False       0.99      1.00      0.99      4315\n",
      "        True       1.00      0.99      0.99      4378\n",
      "\n",
      "    accuracy                           0.99      8693\n",
      "   macro avg       0.99      0.99      0.99      8693\n",
      "weighted avg       0.99      0.99      0.99      8693\n",
      "\n"
     ]
    }
   ],
   "source": [
    "# Classification Report for MLP Classifier\n",
    "classification_report_mlp = classification_report(y_train, MLP_model.predict(X_train))\n",
    "print(\"Classification Report for MLP Classifier:\")\n",
    "print(classification_report_mlp)"
   ]
  },
  {
   "cell_type": "markdown",
   "id": "e324761c",
   "metadata": {},
   "source": [
    "### AdaBoost Classifier"
   ]
  },
  {
   "cell_type": "code",
   "execution_count": 18,
   "id": "01b75862",
   "metadata": {},
   "outputs": [
    {
     "name": "stdout",
     "output_type": "stream",
     "text": [
      "AdaBoost Classifier Model Accuracy: 0.7820\n"
     ]
    }
   ],
   "source": [
    "AdaBoost_model = AdaBoostClassifier(random_state=42)\n",
    "AdaBoost_model.fit(X_train, y_train)\n",
    "\n",
    "accuracy_score_ada = accuracy_score(y_train, AdaBoost_model.predict(X_train))\n",
    "print(f\"AdaBoost Classifier Model Accuracy: {accuracy_score_ada:.4f}\")"
   ]
  },
  {
   "cell_type": "code",
   "execution_count": 19,
   "id": "2c2a3cc3",
   "metadata": {},
   "outputs": [
    {
     "name": "stdout",
     "output_type": "stream",
     "text": [
      "Confusion Matrix for AdaBoost Classifier:\n",
      "[[3398  917]\n",
      " [ 978 3400]]\n"
     ]
    }
   ],
   "source": [
    "# Confusion Matrix for AdaBoost Classifier\n",
    "confusion_matrix_ada = confusion_matrix(y_train, AdaBoost_model.predict(X_train))\n",
    "print(\"Confusion Matrix for AdaBoost Classifier:\")\n",
    "print(confusion_matrix_ada)"
   ]
  },
  {
   "cell_type": "code",
   "execution_count": 20,
   "id": "ee1fbc58",
   "metadata": {},
   "outputs": [
    {
     "name": "stdout",
     "output_type": "stream",
     "text": [
      "Classification Report for AdaBoost Classifier:\n",
      "              precision    recall  f1-score   support\n",
      "\n",
      "       False       0.78      0.79      0.78      4315\n",
      "        True       0.79      0.78      0.78      4378\n",
      "\n",
      "    accuracy                           0.78      8693\n",
      "   macro avg       0.78      0.78      0.78      8693\n",
      "weighted avg       0.78      0.78      0.78      8693\n",
      "\n"
     ]
    }
   ],
   "source": [
    "# Classification Report for AdaBoost Classifier\n",
    "classification_report_ada = classification_report(y_train, AdaBoost_model.predict(X_train))\n",
    "print(\"Classification Report for AdaBoost Classifier:\")\n",
    "print(classification_report_ada)"
   ]
  },
  {
   "cell_type": "markdown",
   "id": "7d1328a2",
   "metadata": {},
   "source": [
    "### Support Vector Machine (with regression) Classifier"
   ]
  },
  {
   "cell_type": "code",
   "execution_count": 21,
   "id": "56fb2f32",
   "metadata": {},
   "outputs": [
    {
     "name": "stdout",
     "output_type": "stream",
     "text": [
      "Ridge Classifier Model Accuracy: 0.9620\n"
     ]
    }
   ],
   "source": [
    "Ridge_model = RidgeClassifier(max_iter=2000, random_state=42)\n",
    "Ridge_model.fit(X_train, y_train)\n",
    "\n",
    "accuracy_score_ridge = accuracy_score(y_train, Ridge_model.predict(X_train))\n",
    "print(f\"Ridge Classifier Model Accuracy: {accuracy_score_ridge:.4f}\")"
   ]
  },
  {
   "cell_type": "code",
   "execution_count": 22,
   "id": "25304782",
   "metadata": {},
   "outputs": [
    {
     "name": "stdout",
     "output_type": "stream",
     "text": [
      "Confusion Matrix for Ridge Classifier:\n",
      "[[4139  176]\n",
      " [ 154 4224]]\n"
     ]
    }
   ],
   "source": [
    "# Confusion Matrix for Ridge Classifier\n",
    "confusion_matrix_ridge = confusion_matrix(y_train, Ridge_model.predict(X_train))\n",
    "print(\"Confusion Matrix for Ridge Classifier:\")\n",
    "print(confusion_matrix_ridge)"
   ]
  },
  {
   "cell_type": "code",
   "execution_count": 23,
   "id": "f9d05086",
   "metadata": {},
   "outputs": [
    {
     "name": "stdout",
     "output_type": "stream",
     "text": [
      "Classification Report for Ridge Classifier:\n",
      "              precision    recall  f1-score   support\n",
      "\n",
      "       False       0.96      0.96      0.96      4315\n",
      "        True       0.96      0.96      0.96      4378\n",
      "\n",
      "    accuracy                           0.96      8693\n",
      "   macro avg       0.96      0.96      0.96      8693\n",
      "weighted avg       0.96      0.96      0.96      8693\n",
      "\n"
     ]
    }
   ],
   "source": [
    "# Classification Report for Ridge Classifier\n",
    "classification_report_ridge = classification_report(y_train, Ridge_model.predict(X_train))\n",
    "print(\"Classification Report for Ridge Classifier:\")\n",
    "print(classification_report_ridge)"
   ]
  },
  {
   "cell_type": "markdown",
   "id": "c21665ec",
   "metadata": {},
   "source": [
    "## TESTING"
   ]
  },
  {
   "cell_type": "code",
   "execution_count": 24,
   "id": "982e20ca",
   "metadata": {},
   "outputs": [],
   "source": [
    "# Make predictions on the test set using the best model (MLP Classifier in this case)\n",
    "predictions = MLP_model.predict(X_test)"
   ]
  },
  {
   "cell_type": "code",
   "execution_count": 25,
   "id": "d893b8a4",
   "metadata": {},
   "outputs": [
    {
     "name": "stdout",
     "output_type": "stream",
     "text": [
      "Submission file created successfully: ./dataset/submission.csv\n",
      "All models trained and evaluated successfully.\n"
     ]
    }
   ],
   "source": [
    "# Prepare the submission DataFrame\n",
    "submission = pd.DataFrame({\n",
    "    'PassengerId': test_data['PassengerId'],\n",
    "    'Transported': predictions\n",
    "})\n",
    "\n",
    "# Save the submission DataFrame to a CSV file\n",
    "submission.to_csv('./dataset/submission.csv', index=False)\n",
    "print(\"Submission file created successfully: ./dataset/submission.csv\")\n",
    "# End of the script\n",
    "print(\"All models trained and evaluated successfully.\")\n",
    "# End of the script\n",
    "# Note: Ensure that the dataset paths are correct and the necessary libraries are installed.\n",
    "# You can run this script in an environment where the required libraries are available."
   ]
  }
 ],
 "metadata": {
  "kernelspec": {
   "display_name": "machine-learning",
   "language": "python",
   "name": "python3"
  },
  "language_info": {
   "codemirror_mode": {
    "name": "ipython",
    "version": 3
   },
   "file_extension": ".py",
   "mimetype": "text/x-python",
   "name": "python",
   "nbconvert_exporter": "python",
   "pygments_lexer": "ipython3",
   "version": "3.13.4"
  }
 },
 "nbformat": 4,
 "nbformat_minor": 5
}
